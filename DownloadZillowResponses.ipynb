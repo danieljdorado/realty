{
 "cells": [
  {
   "cell_type": "code",
   "execution_count": null,
   "id": "63fbc02d",
   "metadata": {},
   "outputs": [],
   "source": [
    "import requests\n",
    "import config\n",
    "\n",
    "url = \"https://zillow69.p.rapidapi.com/search\"\n",
    "\n",
    "querystring = {\"location\":\"Hesperia, CA\"}\n",
    "\n",
    "headers = {\n",
    "    \"X-RapidAPI-Key\": config.REALTY_RAPID_API_KEY,\n",
    "    \"X-RapidAPI-Host\": config.RAPID_API_HOST,\n",
    "}\n",
    "\n",
    "response = requests.get(url, headers=headers, params=querystring)\n",
    "\n",
    "print(response.json())"
   ]
  },
  {
   "cell_type": "code",
   "execution_count": null,
   "id": "3a1333f1",
   "metadata": {},
   "outputs": [],
   "source": [
    "response.json()"
   ]
  },
  {
   "cell_type": "code",
   "execution_count": null,
   "id": "f3ede470",
   "metadata": {},
   "outputs": [],
   "source": [
    "import json\n",
    "\n",
    "with open(\"response.json\", \"w\") as fp:\n",
    "\n",
    "    json.dump(response.json(), fp, indent=4)"
   ]
  },
  {
   "cell_type": "code",
   "execution_count": null,
   "id": "cc71c1fc",
   "metadata": {},
   "outputs": [],
   "source": [
    "# Property Details API"
   ]
  },
  {
   "cell_type": "code",
   "execution_count": null,
   "id": "12eb92a9",
   "metadata": {},
   "outputs": [],
   "source": [
    "import requests\n",
    "\n",
    "url = \"https://zillow69.p.rapidapi.com/property\"\n",
    "\n",
    "querystring = {\"property_url\":\"https://www.zillow.com/homedetails/13255-Country-Club-Dr-Victorville-CA-92395/17481174_zpid/\"}\n",
    "\n",
    "headers = {\n",
    "    \"X-RapidAPI-Key\": config.REALTY_RAPID_API_KEY,\n",
    "    \"X-RapidAPI-Host\": config.RAPID_API_HOST,\n",
    "}\n",
    "\n",
    "property_response = requests.get(url, headers=headers, params=querystring)\n",
    "\n"
   ]
  },
  {
   "cell_type": "code",
   "execution_count": null,
   "id": "d90a812d",
   "metadata": {},
   "outputs": [],
   "source": [
    "print(property_response.json())"
   ]
  },
  {
   "cell_type": "code",
   "execution_count": null,
   "id": "e7aa5f4d",
   "metadata": {},
   "outputs": [],
   "source": [
    "with open(\"for_rent_property_response.json\", \"w\") as fp:\n",
    "\n",
    "    json.dump(property_response.json(), fp, indent=4)"
   ]
  }
 ],
 "metadata": {
  "kernelspec": {
   "display_name": "Python 3 (ipykernel)",
   "language": "python",
   "name": "python3"
  },
  "language_info": {
   "codemirror_mode": {
    "name": "ipython",
    "version": 3
   },
   "file_extension": ".py",
   "mimetype": "text/x-python",
   "name": "python",
   "nbconvert_exporter": "python",
   "pygments_lexer": "ipython3",
   "version": "3.9.13"
  }
 },
 "nbformat": 4,
 "nbformat_minor": 5
}
