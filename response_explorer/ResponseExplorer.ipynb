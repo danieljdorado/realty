{
 "cells": [
  {
   "cell_type": "code",
   "execution_count": null,
   "id": "4acb3765",
   "metadata": {},
   "outputs": [],
   "source": [
    "import pandas as pd\n",
    "import seaborn as sns\n",
    "import json"
   ]
  },
  {
   "cell_type": "code",
   "execution_count": null,
   "id": "9a25cd7b",
   "metadata": {},
   "outputs": [],
   "source": [
    "pd.set_option('display.max_columns', None)"
   ]
  },
  {
   "cell_type": "code",
   "execution_count": null,
   "id": "311e9cd7",
   "metadata": {},
   "outputs": [],
   "source": [
    "RESPONSE_PATH = \"response.json\"\n",
    "\n",
    "with open(RESPONSE_PATH, 'r') as fp:\n",
    "\n",
    "    response_data = json.load(fp)"
   ]
  },
  {
   "cell_type": "code",
   "execution_count": null,
   "id": "338d7de6",
   "metadata": {},
   "outputs": [],
   "source": [
    "df = pd.DataFrame(response_data['props'])"
   ]
  },
  {
   "cell_type": "code",
   "execution_count": null,
   "id": "0f899601",
   "metadata": {
    "scrolled": false
   },
   "outputs": [],
   "source": [
    "single_family = (df.propertyType == 'SINGLE_FAMILY')\n",
    "\n",
    "df[single_family].sort_values(['bedrooms'])"
   ]
  },
  {
   "cell_type": "code",
   "execution_count": null,
   "id": "922841af",
   "metadata": {},
   "outputs": [],
   "source": [
    "sns.scatterplot(data=df[single_family], x='livingArea', y='price', hue ='bedrooms', palette=\"deep\")"
   ]
  }
 ],
 "metadata": {
  "kernelspec": {
   "display_name": "Python 3 (ipykernel)",
   "language": "python",
   "name": "python3"
  },
  "language_info": {
   "codemirror_mode": {
    "name": "ipython",
    "version": 3
   },
   "file_extension": ".py",
   "mimetype": "text/x-python",
   "name": "python",
   "nbconvert_exporter": "python",
   "pygments_lexer": "ipython3",
   "version": "3.9.13"
  }
 },
 "nbformat": 4,
 "nbformat_minor": 5
}
